{
 "cells": [
  {
   "cell_type": "code",
   "metadata": {
    "collapsed": false,
    "ExecuteTime": {
     "end_time": "2025-04-30T18:49:10.504966Z",
     "start_time": "2025-04-30T18:49:10.487471Z"
    }
   },
   "source": [
    "import numpy as np\n",
    "%load_ext autoreload\n",
    "%autoreload 2"
   ],
   "outputs": [
    {
     "name": "stdout",
     "output_type": "stream",
     "text": [
      "The autoreload extension is already loaded. To reload it, use:\n",
      "  %reload_ext autoreload\n"
     ]
    }
   ],
   "execution_count": 10
  },
  {
   "cell_type": "code",
   "metadata": {
    "ExecuteTime": {
     "end_time": "2025-04-30T18:49:11.313950Z",
     "start_time": "2025-04-30T18:49:11.301959Z"
    }
   },
   "source": [
    "#import numpy as np\n",
    "import pandas as pd\n",
    "from pathlib import Path\n",
    "from tqdm import tqdm, trange\n",
    "\n",
    "import dtt_fiber_processing\n",
    "\n",
    "pd.options.mode.chained_assignment = None\n",
    "pd.options.mode.copy_on_write = False"
   ],
   "outputs": [],
   "execution_count": 11
  },
  {
   "cell_type": "code",
   "metadata": {
    "collapsed": false,
    "ExecuteTime": {
     "end_time": "2025-04-30T19:32:25.460116Z",
     "start_time": "2025-04-30T19:32:22.906812Z"
    }
   },
   "source": [
    "data_dir = Path(r'/mnt/r2d2/3_Histology/Qupath Projects/Combined eGFP')\n",
    "data_files = dtt_fiber_processing.parse_datafile_paths(data_dir)\n",
    "input_file_path = data_dir.joinpath('input.xlsx')\n",
    "data_file = data_files[0]"
   ],
   "outputs": [],
   "execution_count": 45
  },
  {
   "metadata": {
    "ExecuteTime": {
     "end_time": "2025-04-30T19:35:19.925536Z",
     "start_time": "2025-04-30T19:35:13.922003Z"
    }
   },
   "cell_type": "code",
   "source": "IDs_to_remove = pd.read_excel(input_file_path, header=None).values",
   "outputs": [],
   "execution_count": 62
  },
  {
   "cell_type": "code",
   "metadata": {
    "collapsed": false,
    "ExecuteTime": {
     "end_time": "2025-04-30T19:35:21.599498Z",
     "start_time": "2025-04-30T19:35:21.572292Z"
    }
   },
   "source": [
    "tree, id_map, structure_map = dtt_fiber_processing.get_atlas_components()"
   ],
   "outputs": [],
   "execution_count": 63
  }
 ],
 "metadata": {
  "kernelspec": {
   "display_name": "dev",
   "language": "python",
   "name": "python3"
  },
  "language_info": {
   "codemirror_mode": {
    "name": "ipython",
    "version": 3
   },
   "file_extension": ".py",
   "mimetype": "text/x-python",
   "name": "python",
   "nbconvert_exporter": "python",
   "pygments_lexer": "ipython3",
   "version": "3.10.13"
  }
 },
 "nbformat": 4,
 "nbformat_minor": 2
}
