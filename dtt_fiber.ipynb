{
 "cells": [
  {
   "cell_type": "code",
   "execution_count": 1,
   "metadata": {},
   "outputs": [],
   "source": [
    "import numpy as np\n",
    "import pandas as pd\n",
    "\n",
    "from pathlib import Path\n",
    "from tqdm import tqdm\n",
    "\n",
    "import dtt_fiber_processing"
   ]
  },
  {
   "cell_type": "code",
   "execution_count": 8,
   "metadata": {},
   "outputs": [],
   "source": [
    "\n",
    "data_dir = Path('R:\\\\3_Histology\\Qupath Projects\\export measurements Test65')\n",
    "query_file, data_files = dtt_fiber_processing.parse_datafile_paths(data_dir)\n",
    "data_file = data_files[0] # We're going to work with one file for now\n",
    "\n",
    "\n",
    "query = pd.read_csv(query_file)\n",
    "data = pd.read_csv(data_file)\n",
    "\n",
    "left_data_index = []\n",
    "right_data_index = []\n",
    "total_index = []\n",
    "classification = data['Classification']\n",
    "\n",
    "\n",
    "for index, value in classification.items():\n",
    "    if pd.isna(value):  # The total value lists NaN as its classification\n",
    "        total_index = index\n",
    "    elif 'Left' in value:  # If the class includes Left, put it in one bin, otherwise, its certainly a right\n",
    "        left_data_index.append(index)\n",
    "    else:\n",
    "        right_data_index.append(index)\n",
    "\n",
    "left_data = data.iloc[left_data_index]  # Select only left regions\n",
    "right_data = data.iloc[right_data_index] # Select only right regions\n",
    "\n",
    "left_data['Classification'].str.strip(to_strip='Left: ')  # Remove Left/Right strings from classification column\n",
    "right_data['Classification'].str.strip(to_strip='Right: ')\n"
   ]
  },
  {
   "cell_type": "code",
   "execution_count": 13,
   "metadata": {},
   "outputs": [
    {
     "data": {
      "text/plain": [
       "3       POST\n",
       "4      COApm\n",
       "5        COA\n",
       "6       COAp\n",
       "9       HATA\n",
       "       ...  \n",
       "431       or\n",
       "432        m\n",
       "433       sp\n",
       "434      dtd\n",
       "435     scwm\n",
       "Name: Classification, Length: 212, dtype: object"
      ]
     },
     "execution_count": 13,
     "metadata": {},
     "output_type": "execute_result"
    }
   ],
   "source": []
  },
  {
   "cell_type": "code",
   "execution_count": null,
   "metadata": {},
   "outputs": [],
   "source": []
  }
 ],
 "metadata": {
  "kernelspec": {
   "display_name": "dev",
   "language": "python",
   "name": "python3"
  },
  "language_info": {
   "codemirror_mode": {
    "name": "ipython",
    "version": 3
   },
   "file_extension": ".py",
   "mimetype": "text/x-python",
   "name": "python",
   "nbconvert_exporter": "python",
   "pygments_lexer": "ipython3",
   "version": "3.10.13"
  }
 },
 "nbformat": 4,
 "nbformat_minor": 2
}
