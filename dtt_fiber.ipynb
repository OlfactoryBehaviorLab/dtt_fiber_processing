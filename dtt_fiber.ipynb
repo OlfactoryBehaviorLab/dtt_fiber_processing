{
 "cells": [
  {
   "cell_type": "code",
   "outputs": [
    {
     "name": "stdout",
     "output_type": "stream",
     "text": [
      "The autoreload extension is already loaded. To reload it, use:\n",
      "  %reload_ext autoreload\n"
     ]
    }
   ],
   "source": [
    "%load_ext autoreload\n",
    "%autoreload 2"
   ],
   "metadata": {
    "collapsed": false,
    "ExecuteTime": {
     "end_time": "2024-04-09T03:06:36.265506700Z",
     "start_time": "2024-04-09T03:06:36.227505800Z"
    }
   },
   "execution_count": 2
  },
  {
   "cell_type": "code",
   "execution_count": 132,
   "metadata": {
    "ExecuteTime": {
     "end_time": "2024-04-09T05:36:24.910464200Z",
     "start_time": "2024-04-09T05:36:24.862465400Z"
    }
   },
   "outputs": [],
   "source": [
    "#import numpy as np\n",
    "import pandas as pd\n",
    "from pathlib import Path\n",
    "from tqdm import tqdm, trange\n",
    "\n",
    "import dtt_fiber_processing\n",
    "\n",
    "pd.options.mode.chained_assignment = None"
   ]
  },
  {
   "cell_type": "code",
   "execution_count": 133,
   "metadata": {
    "collapsed": false,
    "ExecuteTime": {
     "end_time": "2024-04-09T05:36:25.641465600Z",
     "start_time": "2024-04-09T05:36:25.267465Z"
    }
   },
   "outputs": [],
   "source": [
    "data_dir = Path('Z:\\\\3_Histology\\\\Qupath Projects\\\\export measurements Test65\\\\')\n",
    "query_file, data_files = dtt_fiber_processing.parse_datafile_paths(data_dir)\n",
    "#data_file = data_files[0] # We're going to work with one file for now\n",
    "\n",
    "data_file = data_dir.joinpath('24_3_ACP.csv')\n",
    "data = pd.read_csv(data_file)\n"
   ]
  },
  {
   "cell_type": "code",
   "outputs": [],
   "source": [
    "tree, id_map, structure_map = dtt_fiber_processing.get_atlas_components()"
   ],
   "metadata": {
    "collapsed": false,
    "ExecuteTime": {
     "end_time": "2024-04-09T05:36:26.063464600Z",
     "start_time": "2024-04-09T05:36:25.990469400Z"
    }
   },
   "execution_count": 134
  },
  {
   "cell_type": "code",
   "outputs": [],
   "source": [
    "left_data, right_data = dtt_fiber_processing.split_data(data)\n",
    "\n",
    "#left_data = left_data[left_data.Classification != 'root']\n",
    "#right_data = right_data[right_data.Classification != 'root']\n",
    "\n",
    "left_data.reset_index(inplace=True, drop=True)\n",
    "right_data.reset_index(inplace=True, drop=True)\n",
    "\n",
    "fiber_key = [ids for ids in id_map if 'fiber' in ids][0]\n",
    "id_map['fiber_tracts'] = id_map[fiber_key]"
   ],
   "metadata": {
    "ExecuteTime": {
     "end_time": "2024-04-09T05:36:37.285428700Z",
     "start_time": "2024-04-09T05:36:37.230429200Z"
    }
   },
   "execution_count": 136
  },
  {
   "cell_type": "code",
   "outputs": [],
   "source": [
    "left_acronyms = left_data['Classification']\n",
    "right_acronyms = right_data['Classification']\n",
    "left_ids = [id_map[region] for region in left_acronyms]\n",
    "right_ids = [id_map[region] for region in right_acronyms]"
   ],
   "metadata": {
    "collapsed": false,
    "ExecuteTime": {
     "end_time": "2024-04-09T05:36:38.030454100Z",
     "start_time": "2024-04-09T05:36:37.969455Z"
    }
   },
   "execution_count": 137
  },
  {
   "cell_type": "code",
   "outputs": [],
   "source": [
    "left_data.insert(1, 'ID', left_ids)\n",
    "right_data.insert(1, 'ID', right_ids)"
   ],
   "metadata": {
    "collapsed": false,
    "ExecuteTime": {
     "end_time": "2024-04-09T05:36:39.186437400Z",
     "start_time": "2024-04-09T05:36:39.137438100Z"
    }
   },
   "execution_count": 138
  },
  {
   "cell_type": "code",
   "outputs": [],
   "source": [
    "left_data['Artifact Size'] = left_data['Artifact Size'].fillna(0)\n",
    "right_data['Artifact Size'] = right_data['Artifact Size'].fillna(0)"
   ],
   "metadata": {
    "collapsed": false,
    "ExecuteTime": {
     "end_time": "2024-04-09T05:36:41.808407300Z",
     "start_time": "2024-04-09T05:36:41.754406900Z"
    }
   },
   "execution_count": 139
  },
  {
   "cell_type": "code",
   "outputs": [
    {
     "name": "stderr",
     "output_type": "stream",
     "text": [
      "100%|██████████| 64/64 [00:00<00:00, 376.47it/s]\n"
     ]
    }
   ],
   "source": [
    "for row in trange(left_data.shape[0]):\n",
    "    region_row = left_data.iloc[row]\n",
    "    region_id = region_row['ID']\n",
    "    \n",
    "    region_path = structure_map[region_id]\n",
    "    \n",
    "    region_artifact = region_row['Artifact Size']\n",
    "    for parent_region in region_path:\n",
    "        data_mask = left_data['ID'] == parent_region\n",
    "        new_artifact = left_data.loc[data_mask]['Artifact Size'] - region_artifact\n",
    "        left_data.loc[data_mask]['Artifact Size'] = new_artifact\n",
    "        "
   ],
   "metadata": {
    "collapsed": false,
    "ExecuteTime": {
     "end_time": "2024-04-09T02:05:46.741347600Z",
     "start_time": "2024-04-09T02:05:46.531346500Z"
    }
   },
   "execution_count": 18
  },
  {
   "cell_type": "code",
   "outputs": [],
   "source": [
    "region_path = structure_map[154][1::]\n",
    "\n",
    "data_mask = left_data['ID'] == region_path[0]"
   ],
   "metadata": {
    "collapsed": false,
    "ExecuteTime": {
     "end_time": "2024-04-09T05:39:32.762573600Z",
     "start_time": "2024-04-09T05:39:32.708574100Z"
    }
   },
   "execution_count": 150
  },
  {
   "cell_type": "code",
   "outputs": [
    {
     "data": {
      "text/plain": "0     False\n1     False\n2     False\n3     False\n4     False\n      ...  \n59    False\n60    False\n61    False\n62    False\n63    False\nName: ID, Length: 64, dtype: bool"
     },
     "execution_count": 151,
     "metadata": {},
     "output_type": "execute_result"
    }
   ],
   "source": [
    "data_mask"
   ],
   "metadata": {
    "collapsed": false,
    "ExecuteTime": {
     "end_time": "2024-04-09T05:39:34.853536600Z",
     "start_time": "2024-04-09T05:39:34.803535900Z"
    }
   },
   "execution_count": 151
  },
  {
   "cell_type": "code",
   "outputs": [],
   "source": [],
   "metadata": {
    "collapsed": false
   }
  }
 ],
 "metadata": {
  "kernelspec": {
   "display_name": "dev",
   "language": "python",
   "name": "python3"
  },
  "language_info": {
   "codemirror_mode": {
    "name": "ipython",
    "version": 3
   },
   "file_extension": ".py",
   "mimetype": "text/x-python",
   "name": "python",
   "nbconvert_exporter": "python",
   "pygments_lexer": "ipython3",
   "version": "3.10.13"
  }
 },
 "nbformat": 4,
 "nbformat_minor": 2
}
