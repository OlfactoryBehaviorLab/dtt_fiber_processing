{
 "cells": [
  {
   "cell_type": "code",
   "execution_count": 1,
   "metadata": {
    "ExecuteTime": {
     "end_time": "2024-04-09T03:06:36.265506700Z",
     "start_time": "2024-04-09T03:06:36.227505800Z"
    },
    "collapsed": false
   },
   "outputs": [],
   "source": [
    "%load_ext autoreload\n",
    "%autoreload 2"
   ]
  },
  {
   "cell_type": "code",
   "execution_count": 2,
   "metadata": {
    "ExecuteTime": {
     "end_time": "2024-04-09T05:36:24.910464200Z",
     "start_time": "2024-04-09T05:36:24.862465400Z"
    }
   },
   "outputs": [],
   "source": [
    "#import numpy as np\n",
    "import pandas as pd\n",
    "from pathlib import Path\n",
    "from tqdm import tqdm, trange\n",
    "\n",
    "import dtt_fiber_processing\n",
    "\n",
    "pd.options.mode.chained_assignment = None"
   ]
  },
  {
   "cell_type": "code",
   "execution_count": 4,
   "metadata": {
    "ExecuteTime": {
     "end_time": "2024-04-09T05:36:25.641465600Z",
     "start_time": "2024-04-09T05:36:25.267465Z"
    },
    "collapsed": false
   },
   "outputs": [],
   "source": [
    "data_dir = Path('R:\\\\3_Histology\\\\Qupath Projects\\\\export measurements Test65\\\\')\n",
    "query_file, data_files = dtt_fiber_processing.parse_datafile_paths(data_dir)\n",
    "#data_file = data_files[0] # We're going to work with one file for now\n",
    "\n",
    "data_file = data_dir.joinpath('24_3_ACP.csv')\n",
    "data = pd.read_csv(data_file)\n"
   ]
  },
  {
   "cell_type": "code",
   "execution_count": 7,
   "metadata": {
    "ExecuteTime": {
     "end_time": "2024-04-09T05:36:26.063464600Z",
     "start_time": "2024-04-09T05:36:25.990469400Z"
    },
    "collapsed": false
   },
   "outputs": [],
   "source": [
    "tree, id_map, structure_map = dtt_fiber_processing.get_atlas_components()"
   ]
  },
  {
   "cell_type": "code",
   "execution_count": 9,
   "metadata": {
    "ExecuteTime": {
     "end_time": "2024-04-09T05:36:37.285428700Z",
     "start_time": "2024-04-09T05:36:37.230429200Z"
    }
   },
   "outputs": [],
   "source": [
    "left_data, right_data = dtt_fiber_processing.split_data(data)\n",
    "\n",
    "left_data.reset_index(inplace=True, drop=True)\n",
    "right_data.reset_index(inplace=True, drop=True)\n",
    "\n",
    "fiber_key = [ids for ids in id_map if 'fiber' in ids][0]\n",
    "id_map['fiber_tracts'] = id_map[fiber_key]"
   ]
  },
  {
   "cell_type": "code",
   "execution_count": 10,
   "metadata": {
    "ExecuteTime": {
     "end_time": "2024-04-09T05:36:38.030454100Z",
     "start_time": "2024-04-09T05:36:37.969455Z"
    },
    "collapsed": false
   },
   "outputs": [],
   "source": [
    "left_acronyms = left_data['Classification']\n",
    "right_acronyms = right_data['Classification']\n",
    "left_ids = [id_map[region] for region in left_acronyms]\n",
    "right_ids = [id_map[region] for region in right_acronyms]"
   ]
  },
  {
   "cell_type": "code",
   "execution_count": 12,
   "metadata": {
    "ExecuteTime": {
     "end_time": "2024-04-09T05:36:39.186437400Z",
     "start_time": "2024-04-09T05:36:39.137438100Z"
    },
    "collapsed": false
   },
   "outputs": [],
   "source": [
    "left_data.insert(1, 'ID', left_ids)\n",
    "right_data.insert(1, 'ID', right_ids)"
   ]
  },
  {
   "cell_type": "code",
   "execution_count": 14,
   "metadata": {
    "ExecuteTime": {
     "end_time": "2024-04-09T05:36:41.808407300Z",
     "start_time": "2024-04-09T05:36:41.754406900Z"
    },
    "collapsed": false
   },
   "outputs": [],
   "source": [
    "left_data['Artifact Size'] = left_data['Artifact Size'].fillna(0)\n",
    "right_data['Artifact Size'] = right_data['Artifact Size'].fillna(0)"
   ]
  },
  {
   "cell_type": "code",
   "execution_count": 16,
   "metadata": {},
   "outputs": [],
   "source": [
    "left_paths = []\n",
    "for id in left_ids:\n",
    "    path = structure_map[id]\n",
    "    left_paths.append(path)\n",
    "\n",
    "right_paths = []\n",
    "for id in right_ids:\n",
    "    path = structure_map[id][1:]\n",
    "    right_paths.append(path)"
   ]
  },
  {
   "cell_type": "code",
   "execution_count": 18,
   "metadata": {},
   "outputs": [],
   "source": [
    "left_data.insert(len(left_data.columns), 'Path', left_paths)\n",
    "right_data.insert(len(right_data.columns), 'Path', right_paths)"
   ]
  }
 ],
 "metadata": {
  "kernelspec": {
   "display_name": "dev",
   "language": "python",
   "name": "python3"
  },
  "language_info": {
   "codemirror_mode": {
    "name": "ipython",
    "version": 3
   },
   "file_extension": ".py",
   "mimetype": "text/x-python",
   "name": "python",
   "nbconvert_exporter": "python",
   "pygments_lexer": "ipython3",
   "version": "3.10.13"
  }
 },
 "nbformat": 4,
 "nbformat_minor": 2
}
