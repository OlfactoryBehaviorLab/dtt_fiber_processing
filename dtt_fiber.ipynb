{
 "cells": [
  {
   "cell_type": "code",
   "outputs": [],
   "source": [
    "%load_ext autoreload\n",
    "%autoreload 2"
   ],
   "metadata": {
    "collapsed": false,
    "ExecuteTime": {
     "end_time": "2024-04-01T19:54:58.551285600Z",
     "start_time": "2024-04-01T19:54:58.468281300Z"
    }
   },
   "execution_count": 1
  },
  {
   "cell_type": "code",
   "execution_count": 2,
   "metadata": {
    "ExecuteTime": {
     "end_time": "2024-04-01T19:55:00.794321900Z",
     "start_time": "2024-04-01T19:54:58.555280400Z"
    }
   },
   "outputs": [],
   "source": [
    "import numpy as np\n",
    "import pandas as pd\n",
    "\n",
    "from pathlib import Path\n",
    "from tqdm import tqdm\n",
    "\n",
    "import dtt_fiber_processing"
   ]
  },
  {
   "cell_type": "code",
   "execution_count": 3,
   "metadata": {
    "collapsed": false,
    "ExecuteTime": {
     "end_time": "2024-04-01T19:55:01.212284600Z",
     "start_time": "2024-04-01T19:55:00.799278900Z"
    }
   },
   "outputs": [],
   "source": [
    "data_dir = Path('R:\\\\3_Histology\\\\Qupath Projects\\\\export measurements Test65\\\\')\n",
    "query_file, data_files = dtt_fiber_processing.parse_datafile_paths(data_dir)\n",
    "data_file = data_files[0] # We're going to work with one file for now\n"
   ]
  },
  {
   "cell_type": "code",
   "outputs": [
    {
     "name": "stderr",
     "output_type": "stream",
     "text": [
      "C:\\Git_Projects\\dtt_fiber_processing\\dtt_fiber_processing.py:50: SettingWithCopyWarning: \n",
      "A value is trying to be set on a copy of a slice from a DataFrame.\n",
      "Try using .loc[row_indexer,col_indexer] = value instead\n",
      "\n",
      "See the caveats in the documentation: https://pandas.pydata.org/pandas-docs/stable/user_guide/indexing.html#returning-a-view-versus-a-copy\n",
      "  left_data['Classification'] = left_data['Classification'].apply(strip_sides)\n",
      "C:\\Git_Projects\\dtt_fiber_processing\\dtt_fiber_processing.py:51: SettingWithCopyWarning: \n",
      "A value is trying to be set on a copy of a slice from a DataFrame.\n",
      "Try using .loc[row_indexer,col_indexer] = value instead\n",
      "\n",
      "See the caveats in the documentation: https://pandas.pydata.org/pandas-docs/stable/user_guide/indexing.html#returning-a-view-versus-a-copy\n",
      "  right_data['Classification'] = right_data['Classification'].apply(strip_sides)\n"
     ]
    }
   ],
   "source": [
    "query = pd.read_csv(query_file)\n",
    "data = pd.read_csv(data_file)\n",
    "\n",
    "left_data, right_data = dtt_fiber_processing.split_data(data)\n",
    "left_data = left_data[left_data.Classification != 'root']\n",
    "right_data = right_data[right_data.Classification != 'root']"
   ],
   "metadata": {
    "ExecuteTime": {
     "end_time": "2024-04-02T00:44:51.591398600Z",
     "start_time": "2024-04-02T00:44:50.660953200Z"
    }
   },
   "execution_count": 77
  },
  {
   "cell_type": "markdown",
   "source": [],
   "metadata": {
    "collapsed": false
   }
  },
  {
   "cell_type": "code",
   "outputs": [],
   "source": [
    "query['structure_id_path'] = query['structure_id_path'].apply(dtt_fiber_processing.split_structure_id_path)\n",
    "query['acronym'] = query['acronym'].str.lower()"
   ],
   "metadata": {
    "collapsed": false,
    "ExecuteTime": {
     "end_time": "2024-04-02T00:46:21.377128300Z",
     "start_time": "2024-04-02T00:46:21.242138200Z"
    }
   },
   "execution_count": 78
  },
  {
   "cell_type": "code",
   "outputs": [
    {
     "name": "stdout",
     "output_type": "stream",
     "text": [
      "total_brain\n",
      "fiber\n",
      "total_brain\n",
      "fiber\n"
     ]
    }
   ],
   "source": [
    "left_data_ids = dtt_fiber_processing.get_region_ids(query, left_data)\n",
    "right_data_ids = dtt_fiber_processing.get_region_ids(query, right_data)"
   ],
   "metadata": {
    "collapsed": false,
    "ExecuteTime": {
     "end_time": "2024-04-02T01:02:32.448679100Z",
     "start_time": "2024-04-02T01:02:32.041210600Z"
    }
   },
   "execution_count": 84
  },
  {
   "cell_type": "code",
   "outputs": [
    {
     "ename": "ValueError",
     "evalue": "Length of values (222) does not match length of index (223)",
     "output_type": "error",
     "traceback": [
      "\u001B[1;31m---------------------------------------------------------------------------\u001B[0m",
      "\u001B[1;31mValueError\u001B[0m                                Traceback (most recent call last)",
      "Cell \u001B[1;32mIn[81], line 1\u001B[0m\n\u001B[1;32m----> 1\u001B[0m \u001B[43mleft_data\u001B[49m\u001B[38;5;241;43m.\u001B[39;49m\u001B[43minsert\u001B[49m\u001B[43m(\u001B[49m\u001B[38;5;28;43mlen\u001B[39;49m\u001B[43m(\u001B[49m\u001B[43mleft_data\u001B[49m\u001B[38;5;241;43m.\u001B[39;49m\u001B[43mcolumns\u001B[49m\u001B[43m)\u001B[49m\u001B[38;5;241;43m+\u001B[39;49m\u001B[38;5;241;43m1\u001B[39;49m\u001B[43m,\u001B[49m\u001B[43m \u001B[49m\u001B[38;5;124;43m'\u001B[39;49m\u001B[38;5;124;43mIDs\u001B[39;49m\u001B[38;5;124;43m'\u001B[39;49m\u001B[43m,\u001B[49m\u001B[43m \u001B[49m\u001B[43mleft_data_ids\u001B[49m\u001B[43m)\u001B[49m\n",
      "File \u001B[1;32mC:\\miniforge3\\envs\\dev\\lib\\site-packages\\pandas\\core\\frame.py:5158\u001B[0m, in \u001B[0;36mDataFrame.insert\u001B[1;34m(self, loc, column, value, allow_duplicates)\u001B[0m\n\u001B[0;32m   5155\u001B[0m \u001B[38;5;28;01melif\u001B[39;00m \u001B[38;5;28misinstance\u001B[39m(value, DataFrame):\n\u001B[0;32m   5156\u001B[0m     value \u001B[38;5;241m=\u001B[39m value\u001B[38;5;241m.\u001B[39miloc[:, \u001B[38;5;241m0\u001B[39m]\n\u001B[1;32m-> 5158\u001B[0m value, refs \u001B[38;5;241m=\u001B[39m \u001B[38;5;28;43mself\u001B[39;49m\u001B[38;5;241;43m.\u001B[39;49m\u001B[43m_sanitize_column\u001B[49m\u001B[43m(\u001B[49m\u001B[43mvalue\u001B[49m\u001B[43m)\u001B[49m\n\u001B[0;32m   5159\u001B[0m \u001B[38;5;28mself\u001B[39m\u001B[38;5;241m.\u001B[39m_mgr\u001B[38;5;241m.\u001B[39minsert(loc, column, value, refs\u001B[38;5;241m=\u001B[39mrefs)\n",
      "File \u001B[1;32mC:\\miniforge3\\envs\\dev\\lib\\site-packages\\pandas\\core\\frame.py:5253\u001B[0m, in \u001B[0;36mDataFrame._sanitize_column\u001B[1;34m(self, value)\u001B[0m\n\u001B[0;32m   5250\u001B[0m     \u001B[38;5;28;01mreturn\u001B[39;00m _reindex_for_setitem(value, \u001B[38;5;28mself\u001B[39m\u001B[38;5;241m.\u001B[39mindex)\n\u001B[0;32m   5252\u001B[0m \u001B[38;5;28;01mif\u001B[39;00m is_list_like(value):\n\u001B[1;32m-> 5253\u001B[0m     \u001B[43mcom\u001B[49m\u001B[38;5;241;43m.\u001B[39;49m\u001B[43mrequire_length_match\u001B[49m\u001B[43m(\u001B[49m\u001B[43mvalue\u001B[49m\u001B[43m,\u001B[49m\u001B[43m \u001B[49m\u001B[38;5;28;43mself\u001B[39;49m\u001B[38;5;241;43m.\u001B[39;49m\u001B[43mindex\u001B[49m\u001B[43m)\u001B[49m\n\u001B[0;32m   5254\u001B[0m arr \u001B[38;5;241m=\u001B[39m sanitize_array(value, \u001B[38;5;28mself\u001B[39m\u001B[38;5;241m.\u001B[39mindex, copy\u001B[38;5;241m=\u001B[39m\u001B[38;5;28;01mTrue\u001B[39;00m, allow_2d\u001B[38;5;241m=\u001B[39m\u001B[38;5;28;01mTrue\u001B[39;00m)\n\u001B[0;32m   5255\u001B[0m \u001B[38;5;28;01mif\u001B[39;00m (\n\u001B[0;32m   5256\u001B[0m     \u001B[38;5;28misinstance\u001B[39m(value, Index)\n\u001B[0;32m   5257\u001B[0m     \u001B[38;5;129;01mand\u001B[39;00m value\u001B[38;5;241m.\u001B[39mdtype \u001B[38;5;241m==\u001B[39m \u001B[38;5;124m\"\u001B[39m\u001B[38;5;124mobject\u001B[39m\u001B[38;5;124m\"\u001B[39m\n\u001B[1;32m   (...)\u001B[0m\n\u001B[0;32m   5260\u001B[0m     \u001B[38;5;66;03m# TODO: Remove kludge in sanitize_array for string mode when enforcing\u001B[39;00m\n\u001B[0;32m   5261\u001B[0m     \u001B[38;5;66;03m# this deprecation\u001B[39;00m\n",
      "File \u001B[1;32mC:\\miniforge3\\envs\\dev\\lib\\site-packages\\pandas\\core\\common.py:573\u001B[0m, in \u001B[0;36mrequire_length_match\u001B[1;34m(data, index)\u001B[0m\n\u001B[0;32m    569\u001B[0m \u001B[38;5;250m\u001B[39m\u001B[38;5;124;03m\"\"\"\u001B[39;00m\n\u001B[0;32m    570\u001B[0m \u001B[38;5;124;03mCheck the length of data matches the length of the index.\u001B[39;00m\n\u001B[0;32m    571\u001B[0m \u001B[38;5;124;03m\"\"\"\u001B[39;00m\n\u001B[0;32m    572\u001B[0m \u001B[38;5;28;01mif\u001B[39;00m \u001B[38;5;28mlen\u001B[39m(data) \u001B[38;5;241m!=\u001B[39m \u001B[38;5;28mlen\u001B[39m(index):\n\u001B[1;32m--> 573\u001B[0m     \u001B[38;5;28;01mraise\u001B[39;00m \u001B[38;5;167;01mValueError\u001B[39;00m(\n\u001B[0;32m    574\u001B[0m         \u001B[38;5;124m\"\u001B[39m\u001B[38;5;124mLength of values \u001B[39m\u001B[38;5;124m\"\u001B[39m\n\u001B[0;32m    575\u001B[0m         \u001B[38;5;124mf\u001B[39m\u001B[38;5;124m\"\u001B[39m\u001B[38;5;124m(\u001B[39m\u001B[38;5;132;01m{\u001B[39;00m\u001B[38;5;28mlen\u001B[39m(data)\u001B[38;5;132;01m}\u001B[39;00m\u001B[38;5;124m) \u001B[39m\u001B[38;5;124m\"\u001B[39m\n\u001B[0;32m    576\u001B[0m         \u001B[38;5;124m\"\u001B[39m\u001B[38;5;124mdoes not match length of index \u001B[39m\u001B[38;5;124m\"\u001B[39m\n\u001B[0;32m    577\u001B[0m         \u001B[38;5;124mf\u001B[39m\u001B[38;5;124m\"\u001B[39m\u001B[38;5;124m(\u001B[39m\u001B[38;5;132;01m{\u001B[39;00m\u001B[38;5;28mlen\u001B[39m(index)\u001B[38;5;132;01m}\u001B[39;00m\u001B[38;5;124m)\u001B[39m\u001B[38;5;124m\"\u001B[39m\n\u001B[0;32m    578\u001B[0m     )\n",
      "\u001B[1;31mValueError\u001B[0m: Length of values (222) does not match length of index (223)"
     ]
    }
   ],
   "source": [
    "left_data.insert(len(left_data.columns)+1, 'IDs', left_data_ids)"
   ],
   "metadata": {
    "collapsed": false,
    "ExecuteTime": {
     "end_time": "2024-04-02T00:48:04.138090900Z",
     "start_time": "2024-04-02T00:48:03.952601200Z"
    }
   },
   "execution_count": 81
  },
  {
   "cell_type": "code",
   "outputs": [
    {
     "data": {
      "text/plain": "                 Image Classification  \\\n0    Slide11_2_10x.czi           TEa1   \n1    Slide11_2_10x.czi         TEa2/3   \n2    Slide11_2_10x.czi            TEa   \n7    Slide11_2_10x.czi           POST   \n8    Slide11_2_10x.czi         VISal1   \n..                 ...            ...   \n337  Slide11_2_10x.czi            dhc   \n338  Slide11_2_10x.czi        mfsbshy   \n339  Slide11_2_10x.czi         mfbsma   \n340  Slide11_2_10x.czi             mp   \n341  Slide11_2_10x.czi            mtg   \n\n     Test65_Slide15_FullResV2: Fibers area µm^2  Area µm^2 % labeled  \\\n0                                      975.0528    60967.6        2%   \n1                                     1002.6666    72698.2        1%   \n2                                     1978.1956   392941.0        1%   \n7                                       64.7496    95685.8        0%   \n8                                       59.9886    92436.5        0%   \n..                                          ...        ...       ...   \n337                                      0.0000   138592.2        0%   \n338                                      0.0000    38140.9        0%   \n339                                      0.0000    38140.9        0%   \n340                                      0.0000    25206.6        0%   \n341                                      0.0000    12934.3        0%   \n\n     Artifact (1 = no artifact, 2 = artifact present)  \n0                                                 2.0  \n1                                                 2.0  \n2                                                 2.0  \n7                                                 NaN  \n8                                                 NaN  \n..                                                ...  \n337                                               NaN  \n338                                               NaN  \n339                                               NaN  \n340                                               NaN  \n341                                               NaN  \n\n[223 rows x 6 columns]",
      "text/html": "<div>\n<style scoped>\n    .dataframe tbody tr th:only-of-type {\n        vertical-align: middle;\n    }\n\n    .dataframe tbody tr th {\n        vertical-align: top;\n    }\n\n    .dataframe thead th {\n        text-align: right;\n    }\n</style>\n<table border=\"1\" class=\"dataframe\">\n  <thead>\n    <tr style=\"text-align: right;\">\n      <th></th>\n      <th>Image</th>\n      <th>Classification</th>\n      <th>Test65_Slide15_FullResV2: Fibers area µm^2</th>\n      <th>Area µm^2</th>\n      <th>% labeled</th>\n      <th>Artifact (1 = no artifact, 2 = artifact present)</th>\n    </tr>\n  </thead>\n  <tbody>\n    <tr>\n      <th>0</th>\n      <td>Slide11_2_10x.czi</td>\n      <td>TEa1</td>\n      <td>975.0528</td>\n      <td>60967.6</td>\n      <td>2%</td>\n      <td>2.0</td>\n    </tr>\n    <tr>\n      <th>1</th>\n      <td>Slide11_2_10x.czi</td>\n      <td>TEa2/3</td>\n      <td>1002.6666</td>\n      <td>72698.2</td>\n      <td>1%</td>\n      <td>2.0</td>\n    </tr>\n    <tr>\n      <th>2</th>\n      <td>Slide11_2_10x.czi</td>\n      <td>TEa</td>\n      <td>1978.1956</td>\n      <td>392941.0</td>\n      <td>1%</td>\n      <td>2.0</td>\n    </tr>\n    <tr>\n      <th>7</th>\n      <td>Slide11_2_10x.czi</td>\n      <td>POST</td>\n      <td>64.7496</td>\n      <td>95685.8</td>\n      <td>0%</td>\n      <td>NaN</td>\n    </tr>\n    <tr>\n      <th>8</th>\n      <td>Slide11_2_10x.czi</td>\n      <td>VISal1</td>\n      <td>59.9886</td>\n      <td>92436.5</td>\n      <td>0%</td>\n      <td>NaN</td>\n    </tr>\n    <tr>\n      <th>...</th>\n      <td>...</td>\n      <td>...</td>\n      <td>...</td>\n      <td>...</td>\n      <td>...</td>\n      <td>...</td>\n    </tr>\n    <tr>\n      <th>337</th>\n      <td>Slide11_2_10x.czi</td>\n      <td>dhc</td>\n      <td>0.0000</td>\n      <td>138592.2</td>\n      <td>0%</td>\n      <td>NaN</td>\n    </tr>\n    <tr>\n      <th>338</th>\n      <td>Slide11_2_10x.czi</td>\n      <td>mfsbshy</td>\n      <td>0.0000</td>\n      <td>38140.9</td>\n      <td>0%</td>\n      <td>NaN</td>\n    </tr>\n    <tr>\n      <th>339</th>\n      <td>Slide11_2_10x.czi</td>\n      <td>mfbsma</td>\n      <td>0.0000</td>\n      <td>38140.9</td>\n      <td>0%</td>\n      <td>NaN</td>\n    </tr>\n    <tr>\n      <th>340</th>\n      <td>Slide11_2_10x.czi</td>\n      <td>mp</td>\n      <td>0.0000</td>\n      <td>25206.6</td>\n      <td>0%</td>\n      <td>NaN</td>\n    </tr>\n    <tr>\n      <th>341</th>\n      <td>Slide11_2_10x.czi</td>\n      <td>mtg</td>\n      <td>0.0000</td>\n      <td>12934.3</td>\n      <td>0%</td>\n      <td>NaN</td>\n    </tr>\n  </tbody>\n</table>\n<p>223 rows × 6 columns</p>\n</div>"
     },
     "execution_count": 82,
     "metadata": {},
     "output_type": "execute_result"
    }
   ],
   "source": [
    "left_data "
   ],
   "metadata": {
    "collapsed": false,
    "ExecuteTime": {
     "end_time": "2024-04-02T00:48:27.178726600Z",
     "start_time": "2024-04-02T00:48:27.044728500Z"
    }
   },
   "execution_count": 82
  },
  {
   "cell_type": "code",
   "outputs": [],
   "source": [
    " "
   ],
   "metadata": {
    "collapsed": false
   }
  }
 ],
 "metadata": {
  "kernelspec": {
   "display_name": "dev",
   "language": "python",
   "name": "python3"
  },
  "language_info": {
   "codemirror_mode": {
    "name": "ipython",
    "version": 3
   },
   "file_extension": ".py",
   "mimetype": "text/x-python",
   "name": "python",
   "nbconvert_exporter": "python",
   "pygments_lexer": "ipython3",
   "version": "3.10.13"
  }
 },
 "nbformat": 4,
 "nbformat_minor": 2
}
